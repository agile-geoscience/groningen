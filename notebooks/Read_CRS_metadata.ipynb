{
 "cells": [
  {
   "cell_type": "markdown",
   "metadata": {},
   "source": [
    "# Read CRS metadata\n",
    "\n",
    "The well tops include a CRS metadata file, `Well_Tops.asc.crsmeta.xml`"
   ]
  },
  {
   "cell_type": "markdown",
   "metadata": {},
   "source": [
    "Spoiler alert, it's this one: https://spatialreference.org/ref/epsg/28992/\n",
    "\n",
    "Let's read the data out of the file:"
   ]
  },
  {
   "cell_type": "code",
   "execution_count": 1,
   "metadata": {},
   "outputs": [],
   "source": [
    "with open(\"../data/NAM/Formation_tops/Well_Tops.asc.crsmeta.xml\", \"rt\") as f:\n",
    "    text = f.read()"
   ]
  },
  {
   "cell_type": "markdown",
   "metadata": {},
   "source": [
    "Going after anything in XML with regex is a mug's game. So let's try [Beautiful Soup](https://pypi.org/project/beautifulsoup4/)."
   ]
  },
  {
   "cell_type": "code",
   "execution_count": 3,
   "metadata": {
    "scrolled": true
   },
   "outputs": [
    {
     "name": "stdout",
     "output_type": "stream",
     "text": [
      "<?xml version=\"1.0\" encoding=\"utf-8\"?>\n",
      "<!--INFO: This file accompanies a data file and contains the spatial context.-->\n",
      "<!--INFO: It was made by serializing an Ocean spatial companion information record.-->\n",
      "<!--INFO: The coordinate reference system (CRS) is verbosely defined as ESRI well-known-text (WKT).-->\n",
      "<html>\n",
      " <body>\n",
      "  <spatialcompanion version=\"1.0\">\n",
      "   <iearlyboundcoordinatereferencesystem crstype=\"Projected\" engine=\"ESRI\" engineversion=\"PE_10_3_1\" name=\"Amersfoort / RD New [1672_28992]\">\n",
      "    <description>\n",
      "     NL Onshore\n",
      "    </description>\n",
      "    <authoritycode>\n",
      "     Petrel,700049\n",
      "    </authoritycode>\n",
      "    <ilateboundcoordinatereferencesystem name=\"RD_New\">\n",
      "     <authoritycode>\n",
      "      EPSG,28992\n",
      "     </authoritycode>\n",
      "     <wkt>\n",
      "      PROJCS[\"RD_New\",GEOGCS[\"GCS_Amersfoort\",DATUM[\"D_Amersfoort\",SPHEROID[\"Bessel_1841\",6377397.155,299.1528128]],PRIMEM[\"Greenwich\",0.0],UNIT[\"Degree\",0.0174532925199433]],PROJECTION[\"Double_Stereographic\"],PARAMETER[\"False_Easting\",155000.0],PARAMETER[\"False_Northing\",463000.0],PARAMETER[\"Central_Meridian\",5.38763888888889],PARAMETER[\"Scale_Factor\",0.9999079],PARAMETER[\"Latitude_Of_Origin\",52.1561605555556],UNIT[\"Meter\",1.0],AUTHORITY[\"EPSG\",28992]]\n",
      "     </wkt>\n",
      "    </ilateboundcoordinatereferencesystem>\n",
      "    <isimpletransform>\n",
      "     <authoritycode>\n",
      "      EPSG,1672\n",
      "     </authoritycode>\n",
      "     <wkt>\n",
      "      GEOGTRAN[\"Amersfoort_To_WGS_1984_2\",GEOGCS[\"GCS_Amersfoort\",DATUM[\"D_Amersfoort\",SPHEROID[\"Bessel_1841\",6377397.155,299.1528128]],PRIMEM[\"Greenwich\",0.0],UNIT[\"Degree\",0.0174532925199433]],GEOGCS[\"GCS_WGS_1984\",DATUM[\"D_WGS_1984\",SPHEROID[\"WGS_1984\",6378137.0,298.257223563]],PRIMEM[\"Greenwich\",0.0],UNIT[\"Degree\",0.0174532925199433]],METHOD[\"Coordinate_Frame\"],PARAMETER[\"X_Axis_Translation\",565.04],PARAMETER[\"Y_Axis_Translation\",49.91],PARAMETER[\"Z_Axis_Translation\",465.84],PARAMETER[\"X_Axis_Rotation\",0.409394387439237],PARAMETER[\"Y_Axis_Rotation\",-0.359705195614311],PARAMETER[\"Z_Axis_Rotation\",1.86849100035057],PARAMETER[\"Scale_Difference\",4.0772],AUTHORITY[\"EPSG\",1672]]\n",
      "     </wkt>\n",
      "    </isimpletransform>\n",
      "   </iearlyboundcoordinatereferencesystem>\n",
      "   <examplepointconversions>\n",
      "    <exampleconversion>\n",
      "     <point coordinatereferencesystemid=\"Amersfoort / RD New [1672_28992]\" location=\"214329.533607143 563635.327241053\">\n",
      "     </point>\n",
      "     <point coordinatereferencesystemid=\"GCS_Amersfoort\" location=\"6.27266949102468 53.0574095771318\">\n",
      "     </point>\n",
      "     <point coordinatereferencesystemid=\"GCS_WGS_1984\" location=\"6.27210447132444 53.0563141932374\">\n",
      "     </point>\n",
      "    </exampleconversion>\n",
      "    <exampleconversion>\n",
      "     <point coordinatereferencesystemid=\"Amersfoort / RD New [1672_28992]\" location=\"281554.325048422 563635.327241053\">\n",
      "     </point>\n",
      "     <point coordinatereferencesystemid=\"GCS_Amersfoort\" location=\"7.27508968004473 53.0457973667068\">\n",
      "     </point>\n",
      "     <point coordinatereferencesystemid=\"GCS_WGS_1984\" location=\"7.27437405750194 53.0447037275268\">\n",
      "     </point>\n",
      "    </exampleconversion>\n",
      "    <exampleconversion>\n",
      "     <point coordinatereferencesystemid=\"Amersfoort / RD New [1672_28992]\" location=\"281554.325048422 614551.591207417\">\n",
      "     </point>\n",
      "     <point coordinatereferencesystemid=\"GCS_Amersfoort\" location=\"7.29520056327589 53.5031470802877\">\n",
      "     </point>\n",
      "     <point coordinatereferencesystemid=\"GCS_WGS_1984\" location=\"7.2944807778632 53.5020003526861\">\n",
      "     </point>\n",
      "    </exampleconversion>\n",
      "    <exampleconversion>\n",
      "     <point coordinatereferencesystemid=\"Amersfoort / RD New [1672_28992]\" location=\"214329.533607143 614551.591207417\">\n",
      "     </point>\n",
      "     <point coordinatereferencesystemid=\"GCS_Amersfoort\" location=\"6.28210420534744 53.5149173839341\">\n",
      "     </point>\n",
      "     <point coordinatereferencesystemid=\"GCS_WGS_1984\" location=\"6.28153818544347 53.513768857981\">\n",
      "     </point>\n",
      "    </exampleconversion>\n",
      "   </examplepointconversions>\n",
      "   <info history=\"Made by Petrel\">\n",
      "   </info>\n",
      "  </spatialcompanion>\n",
      " </body>\n",
      "</html>\n"
     ]
    }
   ],
   "source": [
    "from bs4 import BeautifulSoup\n",
    "\n",
    "soup = BeautifulSoup(text, 'lxml')\n",
    "\n",
    "print(soup.prettify())"
   ]
  },
  {
   "cell_type": "markdown",
   "metadata": {},
   "source": [
    "Let's read the **Well Known Text**, or WKT:"
   ]
  },
  {
   "cell_type": "code",
   "execution_count": 4,
   "metadata": {},
   "outputs": [
    {
     "data": {
      "text/plain": [
       "[<wkt>PROJCS[\"RD_New\",GEOGCS[\"GCS_Amersfoort\",DATUM[\"D_Amersfoort\",SPHEROID[\"Bessel_1841\",6377397.155,299.1528128]],PRIMEM[\"Greenwich\",0.0],UNIT[\"Degree\",0.0174532925199433]],PROJECTION[\"Double_Stereographic\"],PARAMETER[\"False_Easting\",155000.0],PARAMETER[\"False_Northing\",463000.0],PARAMETER[\"Central_Meridian\",5.38763888888889],PARAMETER[\"Scale_Factor\",0.9999079],PARAMETER[\"Latitude_Of_Origin\",52.1561605555556],UNIT[\"Meter\",1.0],AUTHORITY[\"EPSG\",28992]]</wkt>,\n",
       " <wkt>GEOGTRAN[\"Amersfoort_To_WGS_1984_2\",GEOGCS[\"GCS_Amersfoort\",DATUM[\"D_Amersfoort\",SPHEROID[\"Bessel_1841\",6377397.155,299.1528128]],PRIMEM[\"Greenwich\",0.0],UNIT[\"Degree\",0.0174532925199433]],GEOGCS[\"GCS_WGS_1984\",DATUM[\"D_WGS_1984\",SPHEROID[\"WGS_1984\",6378137.0,298.257223563]],PRIMEM[\"Greenwich\",0.0],UNIT[\"Degree\",0.0174532925199433]],METHOD[\"Coordinate_Frame\"],PARAMETER[\"X_Axis_Translation\",565.04],PARAMETER[\"Y_Axis_Translation\",49.91],PARAMETER[\"Z_Axis_Translation\",465.84],PARAMETER[\"X_Axis_Rotation\",0.409394387439237],PARAMETER[\"Y_Axis_Rotation\",-0.359705195614311],PARAMETER[\"Z_Axis_Rotation\",1.86849100035057],PARAMETER[\"Scale_Difference\",4.0772],AUTHORITY[\"EPSG\",1672]]</wkt>]"
      ]
     },
     "execution_count": 4,
     "metadata": {},
     "output_type": "execute_result"
    }
   ],
   "source": [
    "soup.find_all('wkt')"
   ]
  },
  {
   "cell_type": "markdown",
   "metadata": {},
   "source": [
    "There are two:\n",
    "\n",
    "- A projection (**PROJCS**)\n",
    "- A transform (**GEOGTRAN**)\n",
    "\n",
    "The main thing we need is the projection's EPSG code, everything else will be handled by our GIS or whatever. It's in the WKT, but it's a pain to grab, so let's grab it from the XML tree:"
   ]
  },
  {
   "cell_type": "code",
   "execution_count": 11,
   "metadata": {},
   "outputs": [
    {
     "ename": "AttributeError",
     "evalue": "'NoneType' object has no attribute 'IEarlyBoundCoordinateReferenceSystem'",
     "output_type": "error",
     "traceback": [
      "\u001b[0;31m---------------------------------------------------------------------------\u001b[0m",
      "\u001b[0;31mAttributeError\u001b[0m                            Traceback (most recent call last)",
      "\u001b[0;32m<ipython-input-11-8f144bd5de68>\u001b[0m in \u001b[0;36m<module>\u001b[0;34m\u001b[0m\n\u001b[0;32m----> 1\u001b[0;31m \u001b[0msoup\u001b[0m\u001b[0;34m.\u001b[0m\u001b[0mSpatialCompanion\u001b[0m\u001b[0;34m.\u001b[0m\u001b[0mIEarlyBoundCoordinateReferenceSystem\u001b[0m\u001b[0;34m.\u001b[0m\u001b[0mILateBoundCoordinateReferenceSystem\u001b[0m\u001b[0;34m.\u001b[0m\u001b[0mAuthorityCode\u001b[0m\u001b[0;34m\u001b[0m\u001b[0;34m\u001b[0m\u001b[0m\n\u001b[0m",
      "\u001b[0;31mAttributeError\u001b[0m: 'NoneType' object has no attribute 'IEarlyBoundCoordinateReferenceSystem'"
     ]
    }
   ],
   "source": [
    "soup.SpatialCompanion.IEarlyBoundCoordinateReferenceSystem.ILateBoundCoordinateReferenceSystem.AuthorityCode"
   ]
  },
  {
   "cell_type": "code",
   "execution_count": 9,
   "metadata": {},
   "outputs": [
    {
     "data": {
      "text/plain": [
       "[]"
      ]
     },
     "execution_count": 9,
     "metadata": {},
     "output_type": "execute_result"
    }
   ],
   "source": [
    "soup.find_all('AuthorityCode')"
   ]
  },
  {
   "cell_type": "markdown",
   "metadata": {},
   "source": [
    "Wat."
   ]
  }
 ],
 "metadata": {
  "kernelspec": {
   "display_name": "py38",
   "language": "python",
   "name": "py38"
  },
  "language_info": {
   "codemirror_mode": {
    "name": "ipython",
    "version": 3
   },
   "file_extension": ".py",
   "mimetype": "text/x-python",
   "name": "python",
   "nbconvert_exporter": "python",
   "pygments_lexer": "ipython3",
   "version": "3.8.0"
  }
 },
 "nbformat": 4,
 "nbformat_minor": 4
}
